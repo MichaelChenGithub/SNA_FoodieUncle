{
 "cells": [
  {
   "cell_type": "code",
   "execution_count": 1,
   "metadata": {},
   "outputs": [],
   "source": [
    "import pandas as pd\n",
    "user = pd.read_json('user.json',lines=True)\n",
    "business = pd.read_json('business.json',lines=True)\n",
    "review = pd.read_json('review.json',lines=True, chunksize=10000)"
   ]
  },
  {
   "cell_type": "markdown",
   "metadata": {},
   "source": [
    "### review 只採計 2018 年以後的評論"
   ]
  },
  {
   "cell_type": "code",
   "execution_count": 2,
   "metadata": {},
   "outputs": [],
   "source": [
    "date_threshold = pd.Timestamp('2018-01-01')\n",
    "review_df = pd.DataFrame([], columns = ['review_id', 'user_id', 'business_id', 'stars', 'useful', 'funny', 'cool', 'text', 'date'])\n",
    "for chunk in review:\n",
    "    new_chunk = chunk[(chunk['date'] > date_threshold)]\n",
    "    review_df = pd.concat([review_df, new_chunk], ignore_index=True)\n",
    "# from IPython.display import display\n",
    "# # 秀出前兩個 chunks\n",
    "# date_threshold = pd.Timestamp('2018-01-01')\n",
    "# for _, df_partial in zip(range(2), review):\n",
    "#     display(df_partial[(df_partial['date'] > date_threshold)])"
   ]
  },
  {
   "cell_type": "code",
   "execution_count": 35,
   "metadata": {},
   "outputs": [],
   "source": [
    "user_list = review_df['user_id'].unique().tolist()\n",
    "business_list = review_df['business_id'].unique().tolist()"
   ]
  },
  {
   "cell_type": "markdown",
   "metadata": {},
   "source": [
    "### 地區選定為 las vegas、category 包含 restaurants & bars、有營業、在 2018 年後有被評論"
   ]
  },
  {
   "cell_type": "code",
   "execution_count": 36,
   "metadata": {},
   "outputs": [],
   "source": [
    "city_mask = business['city'] == 'Las Vegas'\n",
    "cat_res_mask = business['categories'].str.contains(\"Restaurants\")\n",
    "cat_bar_mask = business['categories'].str.contains(\"Bars\")\n",
    "review_2018_mask = business['business_id'].isin(business_list)\n",
    "is_open_mask = business['is_open'] == 1\n",
    "target_business_df = business[city_mask & cat_res_mask & cat_bar_mask & review_2018_mask & is_open_mask]"
   ]
  },
  {
   "cell_type": "markdown",
   "metadata": {},
   "source": [
    "### 在 2018 年有 elite 資格"
   ]
  },
  {
   "cell_type": "code",
   "execution_count": 37,
   "metadata": {},
   "outputs": [],
   "source": [
    "target_user_df = user[(user['elite'].str.contains(\"2018\"))]"
   ]
  },
  {
   "cell_type": "markdown",
   "metadata": {},
   "source": [
    "### 篩選後資料概況"
   ]
  },
  {
   "cell_type": "code",
   "execution_count": 38,
   "metadata": {},
   "outputs": [],
   "source": [
    "res_mask = review_df['business_id'].isin(target_business_df['business_id'])\n",
    "user_mask = review_df['user_id'].isin(target_user_df['user_id'])\n",
    "target_review_df = review_df[res_mask & user_mask]"
   ]
  },
  {
   "cell_type": "code",
   "execution_count": 39,
   "metadata": {},
   "outputs": [
    {
     "name": "stdout",
     "output_type": "stream",
     "text": [
      "評論數： 10588\n",
      "評論人數： 4499\n",
      "餐廳數： 759\n"
     ]
    }
   ],
   "source": [
    "print('評論數：',len(target_review_df))\n",
    "print('評論人數：',len(target_review_df['user_id'].unique()))\n",
    "print('餐廳數：',len(target_review_df['business_id'].unique()))"
   ]
  },
  {
   "cell_type": "code",
   "execution_count": null,
   "metadata": {},
   "outputs": [],
   "source": [
    "target_review_df.to_csv('2018_lasvegas_bar_elite_review.csv', index=False)"
   ]
  }
 ],
 "metadata": {
  "interpreter": {
   "hash": "63fd5069d213b44bf678585dea6b12cceca9941eaf7f819626cde1f2670de90d"
  },
  "kernelspec": {
   "display_name": "Python 3.9.7 64-bit",
   "language": "python",
   "name": "python3"
  },
  "language_info": {
   "codemirror_mode": {
    "name": "ipython",
    "version": 3
   },
   "file_extension": ".py",
   "mimetype": "text/x-python",
   "name": "python",
   "nbconvert_exporter": "python",
   "pygments_lexer": "ipython3",
   "version": "3.9.7"
  },
  "orig_nbformat": 4
 },
 "nbformat": 4,
 "nbformat_minor": 2
}
